{
  "nbformat": 4,
  "nbformat_minor": 0,
  "metadata": {
    "colab": {
      "provenance": []
    },
    "kernelspec": {
      "name": "python3",
      "display_name": "Python 3"
    },
    "language_info": {
      "name": "python"
    }
  },
  "cells": [
    {
      "cell_type": "code",
      "execution_count": 8,
      "metadata": {
        "id": "vlB5jRbN8QKf"
      },
      "outputs": [],
      "source": [
        "import pandas as pd\n",
        "from sklearn.model_selection import train_test_split\n",
        "from sklearn.metrics import classification_report"
      ]
    },
    {
      "cell_type": "code",
      "source": [
        "import os\n",
        "spark_version = 'spark-3.4.1'\n",
        "os.environ['SPARK_VERSION']=spark_version\n",
        "!apt-get update\n",
        "!apt-get install openjdk-11-jdk-headless -qq > /dev/null\n",
        "!wget -q http://www.apache.org/dist/spark/$SPARK_VERSION/$SPARK_VERSION-bin-hadoop3.tgz\n",
        "!tar xf $SPARK_VERSION-bin-hadoop3.tgz\n",
        "!pip install -q findspark\n",
        "# Set Environment Variables\n",
        "os.environ[\"JAVA_HOME\"] = \"/usr/lib/jvm/java-11-openjdk-amd64\"\n",
        "os.environ[\"SPARK_HOME\"] = f\"/content/{spark_version}-bin-hadoop3\"\n",
        "# Start a SparkSession\n",
        "import findspark\n",
        "findspark.init()"
      ],
      "metadata": {
        "colab": {
          "base_uri": "https://localhost:8080/"
        },
        "id": "OzU6l69T9cPW",
        "outputId": "c59b1f6d-efe0-4203-d87c-4d5626d5acc1"
      },
      "execution_count": 9,
      "outputs": [
        {
          "output_type": "stream",
          "name": "stdout",
          "text": [
            "\r0% [Working]\r            \rHit:1 https://cloud.r-project.org/bin/linux/ubuntu jammy-cran40/ InRelease\n",
            "Hit:2 https://developer.download.nvidia.com/compute/cuda/repos/ubuntu2204/x86_64  InRelease\n",
            "Hit:3 http://archive.ubuntu.com/ubuntu jammy InRelease\n",
            "Hit:4 http://security.ubuntu.com/ubuntu jammy-security InRelease\n",
            "Hit:5 http://archive.ubuntu.com/ubuntu jammy-updates InRelease\n",
            "Hit:6 http://archive.ubuntu.com/ubuntu jammy-backports InRelease\n",
            "Hit:7 https://ppa.launchpadcontent.net/c2d4u.team/c2d4u4.0+/ubuntu jammy InRelease\n",
            "Hit:8 https://ppa.launchpadcontent.net/deadsnakes/ppa/ubuntu jammy InRelease\n",
            "Hit:9 https://ppa.launchpadcontent.net/graphics-drivers/ppa/ubuntu jammy InRelease\n",
            "Hit:10 https://ppa.launchpadcontent.net/ubuntugis/ppa/ubuntu jammy InRelease\n",
            "Reading package lists... Done\n"
          ]
        }
      ]
    },
    {
      "cell_type": "code",
      "source": [
        "# Start Spark session\n",
        "from pyspark.sql import SparkSession\n",
        "spark = SparkSession.builder.appName(\"Stroke_proccessing\").getOrCreate()"
      ],
      "metadata": {
        "id": "j3n3kaL5-mqI"
      },
      "execution_count": 10,
      "outputs": []
    },
    {
      "cell_type": "code",
      "source": [
        "\n",
        "spark.sparkContext.addFile(\"full_data.csv\")\n",
        "df_raw = spark.read.csv(\"full_data.csv\", sep=\",\", header=True, ignoreLeadingWhiteSpace=True)\n",
        "\n",
        "# Show DataFrame\n",
        "df_raw.show()"
      ],
      "metadata": {
        "colab": {
          "base_uri": "https://localhost:8080/"
        },
        "id": "Fq5kipdJ9evj",
        "outputId": "2d43ab79-e4c8-4eb8-835a-f2d839762416"
      },
      "execution_count": 11,
      "outputs": [
        {
          "output_type": "stream",
          "name": "stdout",
          "text": [
            "+------+----+------------+-------------+------------+-------------+--------------+-----------------+----+---------------+------+\n",
            "|gender| age|hypertension|heart_disease|ever_married|    work_type|Residence_type|avg_glucose_level| bmi| smoking_status|stroke|\n",
            "+------+----+------------+-------------+------------+-------------+--------------+-----------------+----+---------------+------+\n",
            "|  Male|67.0|           0|            1|         Yes|      Private|         Urban|           228.69|36.6|formerly smoked|     1|\n",
            "|  Male|80.0|           0|            1|         Yes|      Private|         Rural|           105.92|32.5|   never smoked|     1|\n",
            "|Female|49.0|           0|            0|         Yes|      Private|         Urban|           171.23|34.4|         smokes|     1|\n",
            "|Female|79.0|           1|            0|         Yes|Self-employed|         Rural|           174.12|24.0|   never smoked|     1|\n",
            "|  Male|81.0|           0|            0|         Yes|      Private|         Urban|           186.21|29.0|formerly smoked|     1|\n",
            "|  Male|74.0|           1|            1|         Yes|      Private|         Rural|            70.09|27.4|   never smoked|     1|\n",
            "|Female|69.0|           0|            0|          No|      Private|         Urban|            94.39|22.8|   never smoked|     1|\n",
            "|Female|78.0|           0|            0|         Yes|      Private|         Urban|            58.57|24.2|        Unknown|     1|\n",
            "|Female|81.0|           1|            0|         Yes|      Private|         Rural|            80.43|29.7|   never smoked|     1|\n",
            "|Female|61.0|           0|            1|         Yes|     Govt_job|         Rural|           120.46|36.8|         smokes|     1|\n",
            "|Female|54.0|           0|            0|         Yes|      Private|         Urban|           104.51|27.3|         smokes|     1|\n",
            "|Female|79.0|           0|            1|         Yes|      Private|         Urban|           214.09|28.2|   never smoked|     1|\n",
            "|Female|50.0|           1|            0|         Yes|Self-employed|         Rural|           167.41|30.9|   never smoked|     1|\n",
            "|  Male|64.0|           0|            1|         Yes|      Private|         Urban|           191.61|37.5|         smokes|     1|\n",
            "|  Male|75.0|           1|            0|         Yes|      Private|         Urban|           221.29|25.8|         smokes|     1|\n",
            "|Female|60.0|           0|            0|          No|      Private|         Urban|            89.22|37.8|   never smoked|     1|\n",
            "|Female|71.0|           0|            0|         Yes|     Govt_job|         Rural|           193.94|22.4|         smokes|     1|\n",
            "|Female|52.0|           1|            0|         Yes|Self-employed|         Urban|           233.29|48.9|   never smoked|     1|\n",
            "|Female|79.0|           0|            0|         Yes|Self-employed|         Urban|            228.7|26.6|   never smoked|     1|\n",
            "|  Male|82.0|           0|            1|         Yes|      Private|         Rural|            208.3|32.5|        Unknown|     1|\n",
            "+------+----+------------+-------------+------------+-------------+--------------+-----------------+----+---------------+------+\n",
            "only showing top 20 rows\n",
            "\n"
          ]
        }
      ]
    },
    {
      "cell_type": "code",
      "source": [
        "df_raw.schema"
      ],
      "metadata": {
        "colab": {
          "base_uri": "https://localhost:8080/"
        },
        "id": "6WDV3QfxQqBE",
        "outputId": "6b032a92-f010-4aff-94da-5c3cfce2d004"
      },
      "execution_count": 12,
      "outputs": [
        {
          "output_type": "execute_result",
          "data": {
            "text/plain": [
              "StructType([StructField('gender', StringType(), True), StructField('age', StringType(), True), StructField('hypertension', StringType(), True), StructField('heart_disease', StringType(), True), StructField('ever_married', StringType(), True), StructField('work_type', StringType(), True), StructField('Residence_type', StringType(), True), StructField('avg_glucose_level', StringType(), True), StructField('bmi', StringType(), True), StructField('smoking_status', StringType(), True), StructField('stroke', StringType(), True)])"
            ]
          },
          "metadata": {},
          "execution_count": 12
        }
      ]
    },
    {
      "cell_type": "code",
      "source": [
        "from pyspark.ml.feature import StringIndexer\n",
        "indexer = StringIndexer(inputCols=['gender','ever_married', 'work_type', 'Residence_type', 'smoking_status'], outputCols=['gender_num','ever_married_num', 'work_type_num', 'Residence_type_num', 'smoking_status_num'])\n",
        "indexer_fitted = indexer.fit(df_raw)\n",
        "df_indexed = indexer_fitted.transform(df_raw)\n",
        "df_indexed = df_indexed.drop('gender','ever_married', 'work_type', 'Residence_type', 'smoking_status')\n",
        "df_indexed.show()"
      ],
      "metadata": {
        "colab": {
          "base_uri": "https://localhost:8080/"
        },
        "id": "VfSvdJvkFgkJ",
        "outputId": "e5d2f49e-ece4-4022-d005-4eae4e4a1566"
      },
      "execution_count": 13,
      "outputs": [
        {
          "output_type": "stream",
          "name": "stdout",
          "text": [
            "+----+------------+-------------+-----------------+----+------+----------+----------------+-------------+------------------+------------------+\n",
            "| age|hypertension|heart_disease|avg_glucose_level| bmi|stroke|gender_num|ever_married_num|work_type_num|Residence_type_num|smoking_status_num|\n",
            "+----+------------+-------------+-----------------+----+------+----------+----------------+-------------+------------------+------------------+\n",
            "|67.0|           0|            1|           228.69|36.6|     1|       1.0|             0.0|          0.0|               0.0|               2.0|\n",
            "|80.0|           0|            1|           105.92|32.5|     1|       1.0|             0.0|          0.0|               1.0|               0.0|\n",
            "|49.0|           0|            0|           171.23|34.4|     1|       0.0|             0.0|          0.0|               0.0|               3.0|\n",
            "|79.0|           1|            0|           174.12|24.0|     1|       0.0|             0.0|          1.0|               1.0|               0.0|\n",
            "|81.0|           0|            0|           186.21|29.0|     1|       1.0|             0.0|          0.0|               0.0|               2.0|\n",
            "|74.0|           1|            1|            70.09|27.4|     1|       1.0|             0.0|          0.0|               1.0|               0.0|\n",
            "|69.0|           0|            0|            94.39|22.8|     1|       0.0|             1.0|          0.0|               0.0|               0.0|\n",
            "|78.0|           0|            0|            58.57|24.2|     1|       0.0|             0.0|          0.0|               0.0|               1.0|\n",
            "|81.0|           1|            0|            80.43|29.7|     1|       0.0|             0.0|          0.0|               1.0|               0.0|\n",
            "|61.0|           0|            1|           120.46|36.8|     1|       0.0|             0.0|          3.0|               1.0|               3.0|\n",
            "|54.0|           0|            0|           104.51|27.3|     1|       0.0|             0.0|          0.0|               0.0|               3.0|\n",
            "|79.0|           0|            1|           214.09|28.2|     1|       0.0|             0.0|          0.0|               0.0|               0.0|\n",
            "|50.0|           1|            0|           167.41|30.9|     1|       0.0|             0.0|          1.0|               1.0|               0.0|\n",
            "|64.0|           0|            1|           191.61|37.5|     1|       1.0|             0.0|          0.0|               0.0|               3.0|\n",
            "|75.0|           1|            0|           221.29|25.8|     1|       1.0|             0.0|          0.0|               0.0|               3.0|\n",
            "|60.0|           0|            0|            89.22|37.8|     1|       0.0|             1.0|          0.0|               0.0|               0.0|\n",
            "|71.0|           0|            0|           193.94|22.4|     1|       0.0|             0.0|          3.0|               1.0|               3.0|\n",
            "|52.0|           1|            0|           233.29|48.9|     1|       0.0|             0.0|          1.0|               0.0|               0.0|\n",
            "|79.0|           0|            0|            228.7|26.6|     1|       0.0|             0.0|          1.0|               0.0|               0.0|\n",
            "|82.0|           0|            1|            208.3|32.5|     1|       1.0|             0.0|          0.0|               1.0|               1.0|\n",
            "+----+------------+-------------+-----------------+----+------+----------+----------------+-------------+------------------+------------------+\n",
            "only showing top 20 rows\n",
            "\n"
          ]
        }
      ]
    },
    {
      "cell_type": "code",
      "source": [
        "#transform indexed strings to vectors\n",
        "from pyspark.ml.feature import OneHotEncoder\n",
        "encoder = OneHotEncoder(inputCols=['gender_num','ever_married_num', 'work_type_num', 'Residence_type_num', 'smoking_status_num'], outputCols=['gender_vec','ever_married_vec', 'work_type_vec', 'Residence_type_vec', 'smoking_status_vec'], dropLast=False)\n",
        "df_onehot_vec = encoder.fit(df_indexed).transform(df_indexed)\n",
        "df_onehot_vec = df_onehot_vec.drop('gender_num','ever_married_num', 'work_type_num', 'Residence_type_num', 'smoking_status_num')\n",
        "df_onehot_vec.show()"
      ],
      "metadata": {
        "colab": {
          "base_uri": "https://localhost:8080/"
        },
        "id": "e6mnPo3X9_zu",
        "outputId": "503c1ca5-891b-4d02-a74d-1dfc54dc3822"
      },
      "execution_count": 14,
      "outputs": [
        {
          "output_type": "stream",
          "name": "stdout",
          "text": [
            "+----+------------+-------------+-----------------+----+------+-------------+----------------+-------------+------------------+------------------+\n",
            "| age|hypertension|heart_disease|avg_glucose_level| bmi|stroke|   gender_vec|ever_married_vec|work_type_vec|Residence_type_vec|smoking_status_vec|\n",
            "+----+------------+-------------+-----------------+----+------+-------------+----------------+-------------+------------------+------------------+\n",
            "|67.0|           0|            1|           228.69|36.6|     1|(2,[1],[1.0])|   (2,[0],[1.0])|(4,[0],[1.0])|     (2,[0],[1.0])|     (4,[2],[1.0])|\n",
            "|80.0|           0|            1|           105.92|32.5|     1|(2,[1],[1.0])|   (2,[0],[1.0])|(4,[0],[1.0])|     (2,[1],[1.0])|     (4,[0],[1.0])|\n",
            "|49.0|           0|            0|           171.23|34.4|     1|(2,[0],[1.0])|   (2,[0],[1.0])|(4,[0],[1.0])|     (2,[0],[1.0])|     (4,[3],[1.0])|\n",
            "|79.0|           1|            0|           174.12|24.0|     1|(2,[0],[1.0])|   (2,[0],[1.0])|(4,[1],[1.0])|     (2,[1],[1.0])|     (4,[0],[1.0])|\n",
            "|81.0|           0|            0|           186.21|29.0|     1|(2,[1],[1.0])|   (2,[0],[1.0])|(4,[0],[1.0])|     (2,[0],[1.0])|     (4,[2],[1.0])|\n",
            "|74.0|           1|            1|            70.09|27.4|     1|(2,[1],[1.0])|   (2,[0],[1.0])|(4,[0],[1.0])|     (2,[1],[1.0])|     (4,[0],[1.0])|\n",
            "|69.0|           0|            0|            94.39|22.8|     1|(2,[0],[1.0])|   (2,[1],[1.0])|(4,[0],[1.0])|     (2,[0],[1.0])|     (4,[0],[1.0])|\n",
            "|78.0|           0|            0|            58.57|24.2|     1|(2,[0],[1.0])|   (2,[0],[1.0])|(4,[0],[1.0])|     (2,[0],[1.0])|     (4,[1],[1.0])|\n",
            "|81.0|           1|            0|            80.43|29.7|     1|(2,[0],[1.0])|   (2,[0],[1.0])|(4,[0],[1.0])|     (2,[1],[1.0])|     (4,[0],[1.0])|\n",
            "|61.0|           0|            1|           120.46|36.8|     1|(2,[0],[1.0])|   (2,[0],[1.0])|(4,[3],[1.0])|     (2,[1],[1.0])|     (4,[3],[1.0])|\n",
            "|54.0|           0|            0|           104.51|27.3|     1|(2,[0],[1.0])|   (2,[0],[1.0])|(4,[0],[1.0])|     (2,[0],[1.0])|     (4,[3],[1.0])|\n",
            "|79.0|           0|            1|           214.09|28.2|     1|(2,[0],[1.0])|   (2,[0],[1.0])|(4,[0],[1.0])|     (2,[0],[1.0])|     (4,[0],[1.0])|\n",
            "|50.0|           1|            0|           167.41|30.9|     1|(2,[0],[1.0])|   (2,[0],[1.0])|(4,[1],[1.0])|     (2,[1],[1.0])|     (4,[0],[1.0])|\n",
            "|64.0|           0|            1|           191.61|37.5|     1|(2,[1],[1.0])|   (2,[0],[1.0])|(4,[0],[1.0])|     (2,[0],[1.0])|     (4,[3],[1.0])|\n",
            "|75.0|           1|            0|           221.29|25.8|     1|(2,[1],[1.0])|   (2,[0],[1.0])|(4,[0],[1.0])|     (2,[0],[1.0])|     (4,[3],[1.0])|\n",
            "|60.0|           0|            0|            89.22|37.8|     1|(2,[0],[1.0])|   (2,[1],[1.0])|(4,[0],[1.0])|     (2,[0],[1.0])|     (4,[0],[1.0])|\n",
            "|71.0|           0|            0|           193.94|22.4|     1|(2,[0],[1.0])|   (2,[0],[1.0])|(4,[3],[1.0])|     (2,[1],[1.0])|     (4,[3],[1.0])|\n",
            "|52.0|           1|            0|           233.29|48.9|     1|(2,[0],[1.0])|   (2,[0],[1.0])|(4,[1],[1.0])|     (2,[0],[1.0])|     (4,[0],[1.0])|\n",
            "|79.0|           0|            0|            228.7|26.6|     1|(2,[0],[1.0])|   (2,[0],[1.0])|(4,[1],[1.0])|     (2,[0],[1.0])|     (4,[0],[1.0])|\n",
            "|82.0|           0|            1|            208.3|32.5|     1|(2,[1],[1.0])|   (2,[0],[1.0])|(4,[0],[1.0])|     (2,[1],[1.0])|     (4,[1],[1.0])|\n",
            "+----+------------+-------------+-----------------+----+------+-------------+----------------+-------------+------------------+------------------+\n",
            "only showing top 20 rows\n",
            "\n"
          ]
        }
      ]
    },
    {
      "cell_type": "code",
      "source": [
        "#transform vectors into one hot encoding arrays\n",
        "from pyspark.ml.functions import vector_to_array\n",
        "\n",
        "col_list = ['gender_vec', 'ever_married_vec', 'work_type_vec', 'Residence_type_vec', 'smoking_status_vec']\n",
        "\n",
        "for col in col_list:\n",
        "    df_onehot_vec = df_onehot_vec.withColumn(col + '_onehot', vector_to_array(col))\n",
        "    df_onehot_vec = df_onehot_vec.drop(col)\n"
      ],
      "metadata": {
        "id": "0xag_ftqNqCN"
      },
      "execution_count": 15,
      "outputs": []
    },
    {
      "cell_type": "code",
      "source": [
        "df_onehot_vec.show()"
      ],
      "metadata": {
        "colab": {
          "base_uri": "https://localhost:8080/"
        },
        "id": "KQV_tqsyMke3",
        "outputId": "bd91dd46-6e8d-4bb7-b315-01243f754a36"
      },
      "execution_count": 16,
      "outputs": [
        {
          "output_type": "stream",
          "name": "stdout",
          "text": [
            "+----+------------+-------------+-----------------+----+------+-----------------+-----------------------+--------------------+-------------------------+-------------------------+\n",
            "| age|hypertension|heart_disease|avg_glucose_level| bmi|stroke|gender_vec_onehot|ever_married_vec_onehot|work_type_vec_onehot|Residence_type_vec_onehot|smoking_status_vec_onehot|\n",
            "+----+------------+-------------+-----------------+----+------+-----------------+-----------------------+--------------------+-------------------------+-------------------------+\n",
            "|67.0|           0|            1|           228.69|36.6|     1|       [0.0, 1.0]|             [1.0, 0.0]|[1.0, 0.0, 0.0, 0.0]|               [1.0, 0.0]|     [0.0, 0.0, 1.0, 0.0]|\n",
            "|80.0|           0|            1|           105.92|32.5|     1|       [0.0, 1.0]|             [1.0, 0.0]|[1.0, 0.0, 0.0, 0.0]|               [0.0, 1.0]|     [1.0, 0.0, 0.0, 0.0]|\n",
            "|49.0|           0|            0|           171.23|34.4|     1|       [1.0, 0.0]|             [1.0, 0.0]|[1.0, 0.0, 0.0, 0.0]|               [1.0, 0.0]|     [0.0, 0.0, 0.0, 1.0]|\n",
            "|79.0|           1|            0|           174.12|24.0|     1|       [1.0, 0.0]|             [1.0, 0.0]|[0.0, 1.0, 0.0, 0.0]|               [0.0, 1.0]|     [1.0, 0.0, 0.0, 0.0]|\n",
            "|81.0|           0|            0|           186.21|29.0|     1|       [0.0, 1.0]|             [1.0, 0.0]|[1.0, 0.0, 0.0, 0.0]|               [1.0, 0.0]|     [0.0, 0.0, 1.0, 0.0]|\n",
            "|74.0|           1|            1|            70.09|27.4|     1|       [0.0, 1.0]|             [1.0, 0.0]|[1.0, 0.0, 0.0, 0.0]|               [0.0, 1.0]|     [1.0, 0.0, 0.0, 0.0]|\n",
            "|69.0|           0|            0|            94.39|22.8|     1|       [1.0, 0.0]|             [0.0, 1.0]|[1.0, 0.0, 0.0, 0.0]|               [1.0, 0.0]|     [1.0, 0.0, 0.0, 0.0]|\n",
            "|78.0|           0|            0|            58.57|24.2|     1|       [1.0, 0.0]|             [1.0, 0.0]|[1.0, 0.0, 0.0, 0.0]|               [1.0, 0.0]|     [0.0, 1.0, 0.0, 0.0]|\n",
            "|81.0|           1|            0|            80.43|29.7|     1|       [1.0, 0.0]|             [1.0, 0.0]|[1.0, 0.0, 0.0, 0.0]|               [0.0, 1.0]|     [1.0, 0.0, 0.0, 0.0]|\n",
            "|61.0|           0|            1|           120.46|36.8|     1|       [1.0, 0.0]|             [1.0, 0.0]|[0.0, 0.0, 0.0, 1.0]|               [0.0, 1.0]|     [0.0, 0.0, 0.0, 1.0]|\n",
            "|54.0|           0|            0|           104.51|27.3|     1|       [1.0, 0.0]|             [1.0, 0.0]|[1.0, 0.0, 0.0, 0.0]|               [1.0, 0.0]|     [0.0, 0.0, 0.0, 1.0]|\n",
            "|79.0|           0|            1|           214.09|28.2|     1|       [1.0, 0.0]|             [1.0, 0.0]|[1.0, 0.0, 0.0, 0.0]|               [1.0, 0.0]|     [1.0, 0.0, 0.0, 0.0]|\n",
            "|50.0|           1|            0|           167.41|30.9|     1|       [1.0, 0.0]|             [1.0, 0.0]|[0.0, 1.0, 0.0, 0.0]|               [0.0, 1.0]|     [1.0, 0.0, 0.0, 0.0]|\n",
            "|64.0|           0|            1|           191.61|37.5|     1|       [0.0, 1.0]|             [1.0, 0.0]|[1.0, 0.0, 0.0, 0.0]|               [1.0, 0.0]|     [0.0, 0.0, 0.0, 1.0]|\n",
            "|75.0|           1|            0|           221.29|25.8|     1|       [0.0, 1.0]|             [1.0, 0.0]|[1.0, 0.0, 0.0, 0.0]|               [1.0, 0.0]|     [0.0, 0.0, 0.0, 1.0]|\n",
            "|60.0|           0|            0|            89.22|37.8|     1|       [1.0, 0.0]|             [0.0, 1.0]|[1.0, 0.0, 0.0, 0.0]|               [1.0, 0.0]|     [1.0, 0.0, 0.0, 0.0]|\n",
            "|71.0|           0|            0|           193.94|22.4|     1|       [1.0, 0.0]|             [1.0, 0.0]|[0.0, 0.0, 0.0, 1.0]|               [0.0, 1.0]|     [0.0, 0.0, 0.0, 1.0]|\n",
            "|52.0|           1|            0|           233.29|48.9|     1|       [1.0, 0.0]|             [1.0, 0.0]|[0.0, 1.0, 0.0, 0.0]|               [1.0, 0.0]|     [1.0, 0.0, 0.0, 0.0]|\n",
            "|79.0|           0|            0|            228.7|26.6|     1|       [1.0, 0.0]|             [1.0, 0.0]|[0.0, 1.0, 0.0, 0.0]|               [1.0, 0.0]|     [1.0, 0.0, 0.0, 0.0]|\n",
            "|82.0|           0|            1|            208.3|32.5|     1|       [0.0, 1.0]|             [1.0, 0.0]|[1.0, 0.0, 0.0, 0.0]|               [0.0, 1.0]|     [0.0, 1.0, 0.0, 0.0]|\n",
            "+----+------------+-------------+-----------------+----+------+-----------------+-----------------------+--------------------+-------------------------+-------------------------+\n",
            "only showing top 20 rows\n",
            "\n"
          ]
        }
      ]
    },
    {
      "cell_type": "code",
      "source": [
        "from pyspark.sql.functions import col\n",
        "columns_to_cast = ['age', 'avg_glucose_level', 'bmi']\n",
        "for col_name in columns_to_cast:\n",
        "    df_onehot_vec = df_onehot_vec.withColumn(col_name, col(col_name).cast(\"Double\"))\n",
        "df_onehot_vec.schema"
      ],
      "metadata": {
        "colab": {
          "base_uri": "https://localhost:8080/"
        },
        "id": "kaEz18WRRcSK",
        "outputId": "c6ca6d94-123f-4cfe-d4ec-c72f85f88fb6"
      },
      "execution_count": 17,
      "outputs": [
        {
          "output_type": "execute_result",
          "data": {
            "text/plain": [
              "StructType([StructField('age', DoubleType(), True), StructField('hypertension', StringType(), True), StructField('heart_disease', StringType(), True), StructField('avg_glucose_level', DoubleType(), True), StructField('bmi', DoubleType(), True), StructField('stroke', StringType(), True), StructField('gender_vec_onehot', ArrayType(DoubleType(), False), False), StructField('ever_married_vec_onehot', ArrayType(DoubleType(), False), False), StructField('work_type_vec_onehot', ArrayType(DoubleType(), False), False), StructField('Residence_type_vec_onehot', ArrayType(DoubleType(), False), False), StructField('smoking_status_vec_onehot', ArrayType(DoubleType(), False), False)])"
            ]
          },
          "metadata": {},
          "execution_count": 17
        }
      ]
    },
    {
      "cell_type": "code",
      "source": [
        "from pyspark.ml.feature import VectorAssembler, StandardScaler\n",
        "#prep vector assembler\n",
        "assembler = VectorAssembler(inputCols=[\"age\", \"avg_glucose_level\", \"bmi\"], outputCol=\"num_features\")\n",
        "df_assembled = assembler.transform(df_onehot_vec)\n",
        "scaler = StandardScaler(inputCol=\"num_features\", outputCol=\"scaled_features\", withStd=True, withMean=True)\n",
        "scaler_model = scaler.fit(df_assembled)\n",
        "scaled_data = scaler_model.transform(df_assembled)\n",
        "\n",
        "\n",
        "columns_to_drop = [\"age\", \"avg_glucose_level\", \"bmi\", \"num_features\"]\n",
        "scaled_data = scaled_data.drop(*columns_to_drop)\n",
        "scaled_data.show()\n"
      ],
      "metadata": {
        "colab": {
          "base_uri": "https://localhost:8080/"
        },
        "id": "uT43bR18P16i",
        "outputId": "4b3bfe6b-4f68-48e5-b528-f1e1b70bb9db"
      },
      "execution_count": 18,
      "outputs": [
        {
          "output_type": "stream",
          "name": "stdout",
          "text": [
            "+------------+-------------+------+-----------------+-----------------------+--------------------+-------------------------+-------------------------+--------------------+\n",
            "|hypertension|heart_disease|stroke|gender_vec_onehot|ever_married_vec_onehot|work_type_vec_onehot|Residence_type_vec_onehot|smoking_status_vec_onehot|     scaled_features|\n",
            "+------------+-------------+------+-----------------+-----------------------+--------------------+-------------------------+-------------------------+--------------------+\n",
            "|           0|            1|     1|       [0.0, 1.0]|             [1.0, 0.0]|[1.0, 0.0, 0.0, 0.0]|               [1.0, 0.0]|     [0.0, 0.0, 1.0, 0.0]|[1.04047987357880...|\n",
            "|           0|            1|     1|       [0.0, 1.0]|             [1.0, 0.0]|[1.0, 0.0, 0.0, 0.0]|               [0.0, 1.0]|     [1.0, 0.0, 0.0, 0.0]|[1.61410827655648...|\n",
            "|           0|            0|     1|       [1.0, 0.0]|             [1.0, 0.0]|[1.0, 0.0, 0.0, 0.0]|               [1.0, 0.0]|     [0.0, 0.0, 0.0, 1.0]|[0.24622516176355...|\n",
            "|           1|            0|     1|       [1.0, 0.0]|             [1.0, 0.0]|[0.0, 1.0, 0.0, 0.0]|               [0.0, 1.0]|     [1.0, 0.0, 0.0, 0.0]|[1.56998301478897...|\n",
            "|           0|            0|     1|       [0.0, 1.0]|             [1.0, 0.0]|[1.0, 0.0, 0.0, 0.0]|               [1.0, 0.0]|     [0.0, 0.0, 1.0, 0.0]|[1.65823353832400...|\n",
            "|           1|            1|     1|       [0.0, 1.0]|             [1.0, 0.0]|[1.0, 0.0, 0.0, 0.0]|               [0.0, 1.0]|     [1.0, 0.0, 0.0, 0.0]|[1.34935670595140...|\n",
            "|           0|            0|     1|       [1.0, 0.0]|             [0.0, 1.0]|[1.0, 0.0, 0.0, 0.0]|               [1.0, 0.0]|     [1.0, 0.0, 0.0, 0.0]|[1.12873039711383...|\n",
            "|           0|            0|     1|       [1.0, 0.0]|             [1.0, 0.0]|[1.0, 0.0, 0.0, 0.0]|               [1.0, 0.0]|     [0.0, 1.0, 0.0, 0.0]|[1.52585775302146...|\n",
            "|           1|            0|     1|       [1.0, 0.0]|             [1.0, 0.0]|[1.0, 0.0, 0.0, 0.0]|               [0.0, 1.0]|     [1.0, 0.0, 0.0, 0.0]|[1.65823353832400...|\n",
            "|           0|            1|     1|       [1.0, 0.0]|             [1.0, 0.0]|[0.0, 0.0, 0.0, 1.0]|               [0.0, 1.0]|     [0.0, 0.0, 0.0, 1.0]|[0.77572830297372...|\n",
            "|           0|            0|     1|       [1.0, 0.0]|             [1.0, 0.0]|[1.0, 0.0, 0.0, 0.0]|               [1.0, 0.0]|     [0.0, 0.0, 0.0, 1.0]|[0.46685147060112...|\n",
            "|           0|            1|     1|       [1.0, 0.0]|             [1.0, 0.0]|[1.0, 0.0, 0.0, 0.0]|               [1.0, 0.0]|     [1.0, 0.0, 0.0, 0.0]|[1.56998301478897...|\n",
            "|           1|            0|     1|       [1.0, 0.0]|             [1.0, 0.0]|[0.0, 1.0, 0.0, 0.0]|               [0.0, 1.0]|     [1.0, 0.0, 0.0, 0.0]|[0.29035042353107...|\n",
            "|           0|            1|     1|       [0.0, 1.0]|             [1.0, 0.0]|[1.0, 0.0, 0.0, 0.0]|               [1.0, 0.0]|     [0.0, 0.0, 0.0, 1.0]|[0.90810408827626...|\n",
            "|           1|            0|     1|       [0.0, 1.0]|             [1.0, 0.0]|[1.0, 0.0, 0.0, 0.0]|               [1.0, 0.0]|     [0.0, 0.0, 0.0, 1.0]|[1.39348196771891...|\n",
            "|           0|            0|     1|       [1.0, 0.0]|             [0.0, 1.0]|[1.0, 0.0, 0.0, 0.0]|               [1.0, 0.0]|     [1.0, 0.0, 0.0, 0.0]|[0.73160304120620...|\n",
            "|           0|            0|     1|       [1.0, 0.0]|             [1.0, 0.0]|[0.0, 0.0, 0.0, 1.0]|               [0.0, 1.0]|     [0.0, 0.0, 0.0, 1.0]|[1.21698092064886...|\n",
            "|           1|            0|     1|       [1.0, 0.0]|             [1.0, 0.0]|[0.0, 1.0, 0.0, 0.0]|               [1.0, 0.0]|     [1.0, 0.0, 0.0, 0.0]|[0.37860094706609...|\n",
            "|           0|            0|     1|       [1.0, 0.0]|             [1.0, 0.0]|[0.0, 1.0, 0.0, 0.0]|               [1.0, 0.0]|     [1.0, 0.0, 0.0, 0.0]|[1.56998301478897...|\n",
            "|           0|            1|     1|       [0.0, 1.0]|             [1.0, 0.0]|[1.0, 0.0, 0.0, 0.0]|               [0.0, 1.0]|     [0.0, 1.0, 0.0, 0.0]|[1.70235880009151...|\n",
            "+------------+-------------+------+-----------------+-----------------------+--------------------+-------------------------+-------------------------+--------------------+\n",
            "only showing top 20 rows\n",
            "\n"
          ]
        }
      ]
    },
    {
      "cell_type": "code",
      "source": [
        "scaled_data.show(5, truncate=False)"
      ],
      "metadata": {
        "colab": {
          "base_uri": "https://localhost:8080/"
        },
        "id": "9A-oROu1nKvF",
        "outputId": "f6af5593-5fff-48fb-d411-aaa9991c3435"
      },
      "execution_count": 22,
      "outputs": [
        {
          "output_type": "stream",
          "name": "stdout",
          "text": [
            "+------------+-------------+------+-----------------+-----------------------+--------------------+-------------------------+-------------------------+-----------------------------------------------------------+\n",
            "|hypertension|heart_disease|stroke|gender_vec_onehot|ever_married_vec_onehot|work_type_vec_onehot|Residence_type_vec_onehot|smoking_status_vec_onehot|scaled_features                                            |\n",
            "+------------+-------------+------+-----------------+-----------------------+--------------------+-------------------------+-------------------------+-----------------------------------------------------------+\n",
            "|0           |1            |1     |[0.0, 1.0]       |[1.0, 0.0]             |[1.0, 0.0, 0.0, 0.0]|[1.0, 0.0]               |[0.0, 0.0, 1.0, 0.0]     |[1.040479873578807,2.7231375098735775,1.193118377221051]   |\n",
            "|0           |1            |1     |[0.0, 1.0]       |[1.0, 0.0]             |[1.0, 0.0, 0.0, 0.0]|[0.0, 1.0]               |[1.0, 0.0, 0.0, 0.0]     |[1.614108276556488,-5.22714119946963E-4,0.5893304437838178]|\n",
            "|0           |0            |1     |[1.0, 0.0]       |[1.0, 0.0]             |[1.0, 0.0, 0.0, 0.0]|[1.0, 0.0]               |[0.0, 0.0, 0.0, 1.0]     |[0.24622516176355616,1.448383771414117,0.8691346080596085] |\n",
            "|1           |0            |1     |[1.0, 0.0]       |[1.0, 0.0]             |[0.0, 1.0, 0.0, 0.0]|[0.0, 1.0]               |[1.0, 0.0, 0.0, 0.0]     |[1.5699830147889742,1.5124986044135578,-0.6624250279762995]|\n",
            "|0           |0            |1     |[0.0, 1.0]       |[1.0, 0.0]             |[1.0, 0.0, 0.0, 0.0]|[1.0, 0.0]               |[0.0, 0.0, 1.0, 0.0]     |[1.658233538324002,1.78071601997177,0.07390172011788712]   |\n",
            "+------------+-------------+------+-----------------+-----------------------+--------------------+-------------------------+-------------------------+-----------------------------------------------------------+\n",
            "only showing top 5 rows\n",
            "\n"
          ]
        }
      ]
    }
  ]
}